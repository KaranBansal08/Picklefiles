{
 "cells": [
  {
   "cell_type": "code",
   "execution_count": 1,
   "id": "ed8371f7-951e-4bf4-9d18-1b0e137c58dc",
   "metadata": {},
   "outputs": [
    {
     "name": "stdout",
     "output_type": "stream",
     "text": [
      "Collecting newsapi-python\n",
      "  Downloading newsapi_python-0.2.7-py2.py3-none-any.whl.metadata (1.2 kB)\n",
      "Requirement already satisfied: requests<3.0.0 in c:\\users\\karan bansal\\appdata\\roaming\\python\\python311\\site-packages (from newsapi-python) (2.32.3)\n",
      "Requirement already satisfied: charset-normalizer<4,>=2 in c:\\users\\karan bansal\\anaconda3\\lib\\site-packages (from requests<3.0.0->newsapi-python) (2.0.4)\n",
      "Requirement already satisfied: idna<4,>=2.5 in c:\\users\\karan bansal\\anaconda3\\lib\\site-packages (from requests<3.0.0->newsapi-python) (3.4)\n",
      "Requirement already satisfied: urllib3<3,>=1.21.1 in c:\\users\\karan bansal\\anaconda3\\lib\\site-packages (from requests<3.0.0->newsapi-python) (2.0.7)\n",
      "Requirement already satisfied: certifi>=2017.4.17 in c:\\users\\karan bansal\\appdata\\roaming\\python\\python311\\site-packages (from requests<3.0.0->newsapi-python) (2024.8.30)\n",
      "Downloading newsapi_python-0.2.7-py2.py3-none-any.whl (7.9 kB)\n",
      "Installing collected packages: newsapi-python\n",
      "Successfully installed newsapi-python-0.2.7\n"
     ]
    }
   ],
   "source": [
    "\n",
    "!pip install newsapi-python"
   ]
  },
  {
   "cell_type": "code",
   "execution_count": 2,
   "id": "ef8f8f58-0878-4883-8e0e-9bf1e06fc891",
   "metadata": {},
   "outputs": [
    {
     "name": "stderr",
     "output_type": "stream",
     "text": [
      "[nltk_data] Downloading package vader_lexicon to C:\\Users\\karan\n",
      "[nltk_data]     bansal\\AppData\\Roaming\\nltk_data...\n",
      "[nltk_data]   Package vader_lexicon is already up-to-date!\n"
     ]
    }
   ],
   "source": [
    "import nltk\n",
    "nltk.download('vader_lexicon')\n",
    "\n",
    "import matplotlib.pyplot as plt \n",
    "import numpy as np\n",
    "import pandas as pd"
   ]
  },
  {
   "cell_type": "code",
   "execution_count": 4,
   "id": "90a8fcee-08cc-40ba-b41c-0b97fd04068a",
   "metadata": {},
   "outputs": [],
   "source": [
    "from newsapi import NewsApiClient\n",
    "from datetime import date, timedelta, datetime\n",
    "\n",
    "from nltk.sentiment.vader import SentimentIntensityAnalyzer\n",
    "sia = SentimentIntensityAnalyzer()"
   ]
  },
  {
   "cell_type": "code",
   "execution_count": 5,
   "id": "35627fcc-4b24-4532-bccb-2fcdb3c83db7",
   "metadata": {},
   "outputs": [],
   "source": [
    "pd.set_option('display.max_colwidth',1000)"
   ]
  },
  {
   "cell_type": "code",
   "execution_count": 6,
   "id": "7b2eab64-ce0c-4fb6-9d5c-c89d4b5c3a61",
   "metadata": {},
   "outputs": [],
   "source": [
    "\n",
    "NEWS_API_KEY = '1142c2de5799402884dc1a4c91168862'"
   ]
  },
  {
   "cell_type": "code",
   "execution_count": 7,
   "id": "b52c65d7-0e09-4a9d-9ea4-c5cfda175cb0",
   "metadata": {},
   "outputs": [],
   "source": [
    "\n",
    "newsapi = NewsApiClient(api_key= NEWS_API_KEY)\n",
    "keywrd = 'Tesla stock'\n",
    "my_date = date.today() - timedelta(days=1) \n",
    "# datetime.strptime('10-Apr-2021','%d-%b-%Y')\n",
    "\n",
    "articles = newsapi.get_everything(q = keywrd,\n",
    "                                      from_param = my_date.isoformat(), \n",
    "                                      to = (my_date + timedelta(days = 1)).isoformat(),\n",
    "                                      language=\"en\",\n",
    "                                      #sources = \",\".join(sources_list),\n",
    "                                      sort_by=\"relevancy\",\n",
    "                                      page_size = 100)"
   ]
  },
  {
   "cell_type": "code",
   "execution_count": 8,
   "id": "b6534094-019d-4427-899b-772c1ccd373a",
   "metadata": {},
   "outputs": [
    {
     "data": {
      "text/plain": [
       "{'status': 'ok',\n",
       " 'totalResults': 5,\n",
       " 'articles': [{'source': {'id': None, 'name': 'Investing.com'},\n",
       "   'author': 'Investing.com',\n",
       "   'title': \"Cathie Wood's ARK buys Tempus AI stock, sells Tesla and Palantir\",\n",
       "   'description': \"Cathie Wood's ARK buys Tempus AI stock, sells Tesla and Palantir\",\n",
       "   'url': 'https://www.investing.com/news/company-news/cathie-woods-ark-buys-tempus-ai-stock-sells-tesla-and-palantir-93CH-3783541',\n",
       "   'urlToImage': 'https://i-invdn-com.investing.com/redesign/images/seo/investing_300X300.png',\n",
       "   'publishedAt': '2024-12-20T01:01:27Z',\n",
       "   'content': \"Cathie Wood's ARK ETF published their daily trades for Thursday, December 19th, 2024, revealing a series of strategic moves in the tech and biotech sectors. The most significant transaction of the da… [+1986 chars]\"},\n",
       "  {'source': {'id': None, 'name': 'Biztoc.com'},\n",
       "   'author': 'thestreet.com',\n",
       "   'title': 'Analyst resets Amazon stock forecast on huge ‘moonshot’',\n",
       "   'description': 'Space is infinite, but it may still not be big enough for both Elon Musk and Jeff Bezos. \\nThe two billionaires could be heading for a showdown in the stars as their private space race heats up.\\nRelated: Analyst revamps Tesla stock price target on Musk-Trump c…',\n",
       "   'url': 'https://biztoc.com/x/35c17d257bcec994',\n",
       "   'urlToImage': 'https://biztoc.com/cdn/35c17d257bcec994_s.webp',\n",
       "   'publishedAt': '2024-12-20T01:46:41Z',\n",
       "   'content': 'Space is infinite, but it may still not be big enough for both Elon Musk and Jeff Bezos. The two billionaires could be heading for a showdown in the stars as their private space race heats up.Related… [+144 chars]'},\n",
       "  {'source': {'id': None, 'name': 'Investing.com'},\n",
       "   'author': 'Investing.com',\n",
       "   'title': 'US stock futures drop as Trump-backed spending bill fails to pass',\n",
       "   'description': 'US stock futures drop as Trump-backed spending bill fails to pass',\n",
       "   'url': 'https://www.investing.com/news/stock-market-news/us-stock-futures-drop-as-trumpbacked-spending-bill-fails-to-pass-3783589',\n",
       "   'urlToImage': 'https://i-invdn-com.investing.com/news/LYNXMPEA6M0LI_L.jpg',\n",
       "   'publishedAt': '2024-12-20T03:29:41Z',\n",
       "   'content': 'Investing.com-- U.S. stock futures fell in Asian trade on Friday after a spot-gap spending bill backed by President-elect Donald Trump was voted down in Congress, raising the prospect of a government… [+1818 chars]'},\n",
       "  {'source': {'id': None, 'name': 'newsBTC'},\n",
       "   'author': 'Ash Tiwari',\n",
       "   'title': 'Hut 8 Bitcoin Holdings Now Over $1 Billion With Latest Buy',\n",
       "   'description': 'Major North American Bitcoin (BTC) mining company Hut 8 has further expanded its BTC holdings with a $100 million acquisition. This latest purchase has pushed the company’s total reserves to over 10,096 BTC, valued at more than $1 billion at current market pr…',\n",
       "   'url': 'http://www.newsbtc.com/bitcoin-news/hut-8-bitcoin-holdings-now-over-1-billion-with-latest-buy/',\n",
       "   'urlToImage': 'https://www.newsbtc.com/wp-content/uploads/2024/12/bitcoin_617544.jpg?fit=1920%2C1280',\n",
       "   'publishedAt': '2024-12-20T04:00:28Z',\n",
       "   'content': 'Major North American Bitcoin (BTC) mining company Hut 8 has further expanded its BTC holdings with a $100 million acquisition. This latest purchase has pushed the companys total reserves to over 10,0… [+3121 chars]'},\n",
       "  {'source': {'id': None, 'name': 'Motley Fool Australia'},\n",
       "   'author': 'Bronwyn Allen',\n",
       "   'title': 'Here are the 10 most traded ASX shares and US stocks in November',\n",
       "   'description': 'A consumer staples share attracted the strongest buying conviction among investors using the Selfwealth platform last month. \\nThe post Here are the 10 most traded ASX shares and US stocks in November appeared first on The Motley Fool Australia.',\n",
       "   'url': 'https://www.fool.com.au/2024/12/20/here-are-the-10-most-traded-asx-shares-and-us-stocks-in-november/',\n",
       "   'urlToImage': 'https://www.fool.com.au/wp-content/uploads/2023/12/ten-at-the-top-663x373.jpg',\n",
       "   'publishedAt': '2024-12-20T01:37:20Z',\n",
       "   'content': 'ASX 200\\xa0mining\\xa0large-caps\\xa0BHP Group Ltd\\xa0(ASX: BHP) and\\xa0Fortescue Ltd\\xa0(ASX: FMG) were the two\\xa0most traded\\xa0ASX shares among investors using the Selfwealth trading platform last month. \\r\\nComing in third… [+3593 chars]'}]}"
      ]
     },
     "execution_count": 8,
     "metadata": {},
     "output_type": "execute_result"
    }
   ],
   "source": [
    "articles"
   ]
  },
  {
   "cell_type": "code",
   "execution_count": 9,
   "id": "e37c50bc-5d0f-4f23-9736-1e35050d3a11",
   "metadata": {},
   "outputs": [
    {
     "name": "stdout",
     "output_type": "stream",
     "text": [
      "Well, this week news broke that they had been in talks with Twitter for a $4 billion acquisition, so it looks like they’re still pretty desirable.\n",
      "{'neg': 0.084, 'neu': 0.603, 'pos': 0.313, 'compound': 0.7624}\n",
      "Wow, how things change.\n",
      "{'neg': 0.0, 'neu': 0.441, 'pos': 0.559, 'compound': 0.5859}\n",
      "Traveloka are poised to become public companies in coming months, kickstarting a coming-out party for Southeast Asia’s long-overlooked internet scene.\n",
      "{'neg': 0.0, 'neu': 0.783, 'pos': 0.217, 'compound': 0.5719}\n",
      "Former DHS Secretary Janet Napolitano spoke with Yahoo Finance about comprehensive immigration reform.\n",
      "{'neg': 0.0, 'neu': 0.857, 'pos': 0.143, 'compound': 0.25}\n"
     ]
    }
   ],
   "source": [
    "PHRASES = ['Well, this week news broke that they had been in talks with Twitter for a $4 billion acquisition, so it looks like they’re still pretty desirable.',\\\n",
    "           'Wow, how things change.',\\\n",
    "           'Traveloka are poised to become public companies in coming months, kickstarting a coming-out party for Southeast Asia’s long-overlooked internet scene.',\\\n",
    "           'Former DHS Secretary Janet Napolitano spoke with Yahoo Finance about comprehensive immigration reform.']\n",
    "\n",
    "for phrase in PHRASES:\n",
    "  print(f'{phrase}')\n",
    "  print(sia.polarity_scores(phrase))"
   ]
  },
  {
   "cell_type": "code",
   "execution_count": 10,
   "id": "ee29f263-c4fa-47b5-bfec-27f836e13c12",
   "metadata": {},
   "outputs": [],
   "source": [
    "def get_articles_sentiments(keywrd, startd, sources_list = None, show_all_articles = False):\n",
    "   \n",
    "  newsapi = NewsApiClient(api_key= NEWS_API_KEY)\n",
    "  if type(startd) == str:\n",
    "    my_date = datetime.strptime(startd,'%d-%b-%Y')\n",
    "  else:\n",
    "    my_date = startd\n",
    "  # business_en_sources = get_sources('business','en')\n",
    "  if sources_list:\n",
    "    articles = newsapi.get_everything(q = keywrd,\n",
    "                                      from_param = my_date.isoformat(), \n",
    "                                      to = (my_date + timedelta(days = 1)).isoformat(),\n",
    "                                      language=\"en\",\n",
    "                                      sources = \",\".join(sources_list),\n",
    "                                      sort_by=\"relevancy\",\n",
    "                                      page_size = 100)\n",
    "  else:\n",
    "     articles = newsapi.get_everything(q = keywrd,\n",
    "                                       from_param = my_date.isoformat(), \n",
    "                                       to = (my_date + timedelta(days = 1)).isoformat(),\n",
    "                                       language=\"en\",\n",
    "                                       sort_by=\"relevancy\",\n",
    "                                       page_size = 100)\n",
    "  article_content = ''\n",
    "\n",
    "  date_sentiments = {}\n",
    "  date_sentiments_list = []\n",
    "  seen = set()\n",
    "  \n",
    "  for article in articles['articles']:\n",
    "    if str(article['title']) in seen:\n",
    "      continue\n",
    "    else:\n",
    "      seen.add(str(article['title']))\n",
    "      article_content = str(article['title']) + '. ' + str(article['description'])      \n",
    "      sentiment = sia.polarity_scores(article_content)['compound']\n",
    "      date_sentiments.setdefault(my_date, []).append(sentiment)\n",
    "      date_sentiments_list.append((sentiment, article['url'],article['title'],article['description']))\n",
    "\n",
    "  date_sentiments_l = sorted(date_sentiments_list, key=lambda tup: tup[0], reverse = True)   \n",
    "  sent_list = list(date_sentiments.values())[0]\n",
    "\n",
    "  return pd.DataFrame(date_sentiments_list, columns=['Sentiment','URL','Title','Description'])"
   ]
  },
  {
   "cell_type": "code",
   "execution_count": 14,
   "id": "04cb8e99-caa8-4036-8f1b-ee91e7e01ced",
   "metadata": {},
   "outputs": [
    {
     "name": "stdout",
     "output_type": "stream",
     "text": [
      "   Sentiment  \\\n",
      "0     0.0000   \n",
      "1     0.2500   \n",
      "2    -0.8316   \n",
      "3     0.4404   \n",
      "4     0.8371   \n",
      "\n",
      "                                                                                                                         URL  \\\n",
      "0    https://www.investing.com/news/company-news/cathie-woods-ark-buys-tempus-ai-stock-sells-tesla-and-palantir-93CH-3783541   \n",
      "1                                                                                      https://biztoc.com/x/35c17d257bcec994   \n",
      "2  https://www.investing.com/news/stock-market-news/us-stock-futures-drop-as-trumpbacked-spending-bill-fails-to-pass-3783589   \n",
      "3                             http://www.newsbtc.com/bitcoin-news/hut-8-bitcoin-holdings-now-over-1-billion-with-latest-buy/   \n",
      "4                       https://www.fool.com.au/2024/12/20/here-are-the-10-most-traded-asx-shares-and-us-stocks-in-november/   \n",
      "\n",
      "                                                               Title  \\\n",
      "0   Cathie Wood's ARK buys Tempus AI stock, sells Tesla and Palantir   \n",
      "1            Analyst resets Amazon stock forecast on huge ‘moonshot’   \n",
      "2  US stock futures drop as Trump-backed spending bill fails to pass   \n",
      "3         Hut 8 Bitcoin Holdings Now Over $1 Billion With Latest Buy   \n",
      "4   Here are the 10 most traded ASX shares and US stocks in November   \n",
      "\n",
      "                                                                                                                                                                                                                                                              Description  \n",
      "0                                                                                                                                                                                                        Cathie Wood's ARK buys Tempus AI stock, sells Tesla and Palantir  \n",
      "1  Space is infinite, but it may still not be big enough for both Elon Musk and Jeff Bezos. \\nThe two billionaires could be heading for a showdown in the stars as their private space race heats up.\\nRelated: Analyst revamps Tesla stock price target on Musk-Trump c…  \n",
      "2                                                                                                                                                                                                       US stock futures drop as Trump-backed spending bill fails to pass  \n",
      "3    Major North American Bitcoin (BTC) mining company Hut 8 has further expanded its BTC holdings with a $100 million acquisition. This latest purchase has pushed the company’s total reserves to over 10,096 BTC, valued at more than $1 billion at current market pr…  \n",
      "4                   A consumer staples share attracted the strongest buying conviction among investors using the Selfwealth platform last month. \\nThe post Here are the 10 most traded ASX shares and US stocks in November appeared first on The Motley Fool Australia.  \n"
     ]
    },
    {
     "data": {
      "image/png": "[encoded data removed]",
      "text/plain": [
       "<Figure size 640x480 with 1 Axes>"
      ]
     },
     "metadata": {},
     "output_type": "display_data"
    }
   ],
   "source": [
    "my_date = date.today() - timedelta(days=1) \n",
    "\n",
    "return_articles = get_articles_sentiments(keywrd= 'Tesla stock' ,startd = my_date, sources_list = None, show_all_articles= True)\n",
    "return_articles.Sentiment.hist(bins=30, grid=False)\n",
    "print(return_articles)"
   ]
  },
  {
   "cell_type": "code",
   "execution_count": null,
   "id": "a0e4ad8d-4a86-4190-9781-a8a4c64f50a9",
   "metadata": {},
   "outputs": [],
   "source": []
  }
 ],
 "metadata": {
  "kernelspec": {
   "display_name": "Python 3 (ipykernel)",
   "language": "python",
   "name": "python3"
  },
  "language_info": {
   "codemirror_mode": {
    "name": "ipython",
    "version": 3
   },
   "file_extension": ".py",
   "mimetype": "text/x-python",
   "name": "python",
   "nbconvert_exporter": "python",
   "pygments_lexer": "ipython3",
   "version": "3.11.7"
  }
 },
 "nbformat": 4,
 "nbformat_minor": 5
}
